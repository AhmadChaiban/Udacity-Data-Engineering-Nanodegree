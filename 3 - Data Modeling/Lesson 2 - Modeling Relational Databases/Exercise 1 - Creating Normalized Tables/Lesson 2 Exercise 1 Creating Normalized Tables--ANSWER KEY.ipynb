{
 "cells": [
  {
   "cell_type": "markdown",
   "metadata": {},
   "source": [
    "# Lesson 2 Exercise 1 Solution: Creating Normalized Tables\n",
    "\n",
    "<img src=\"images/postgresSQLlogo.png\" width=\"250\" height=\"250\">"
   ]
  },
  {
   "cell_type": "markdown",
   "metadata": {},
   "source": [
    "## In this exercise we are going to walk through the basics of modeling data in normalized form. We will create tables in PostgreSQL, insert rows of data, and do simple JOIN SQL queries to show how these mutliple tables can work together. \n"
   ]
  },
  {
   "cell_type": "markdown",
   "metadata": {},
   "source": [
    "#### Import the library \n",
    "Note: An error might popup after this command has exectuted. If it does, read it carefully before ignoring. "
   ]
  },
  {
   "cell_type": "code",
   "execution_count": 1,
   "metadata": {},
   "outputs": [],
   "source": [
    "import psycopg2"
   ]
  },
  {
   "cell_type": "markdown",
   "metadata": {},
   "source": [
    "####  Create a connection to the database, get a cursor, and set autocommit to true"
   ]
  },
  {
   "cell_type": "code",
   "execution_count": 2,
   "metadata": {},
   "outputs": [],
   "source": [
    "try: \n",
    "    conn = psycopg2.connect(\"host=127.0.0.1 dbname=studentdb user=student password=student\")\n",
    "except psycopg2.Error as e: \n",
    "    print(\"Error: Could not make connection to the Postgres database\")\n",
    "    print(e)\n",
    "try: \n",
    "    cur = conn.cursor()\n",
    "except psycopg2.Error as e: \n",
    "    print(\"Error: Could not get cursor to the Database\")\n",
    "    print(e)\n",
    "conn.set_session(autocommit=True)"
   ]
  },
  {
   "cell_type": "markdown",
   "metadata": {},
   "source": [
    "#### Let's imagine we have a table called Music Store. \n",
    "\n",
    "`Table Name: music_store\n",
    "column 0: Transaction Id\n",
    "column 1: Customer Name\n",
    "column 2: Cashier Name\n",
    "column 3: Year \n",
    "column 4: Albums Purchased`\n",
    "\n",
    "## Now to translate this information into a Create Table Statement and insert the data\n",
    "\n",
    "\n",
    "<img src=\"images/table12.png\" width=\"650\" height=\"650\">\n"
   ]
  },
  {
   "cell_type": "code",
   "execution_count": 3,
   "metadata": {},
   "outputs": [
    {
     "name": "stdout",
     "output_type": "stream",
     "text": [
      "(1, 'Amanda', 'Sam', 2000, ['Rubber Soul', 'Let it Be'])\n",
      "(2, 'Toby', 'Sam', 2000, ['My Generation'])\n",
      "(3, 'Max', 'Bob', 2018, ['Meet the Beatles', 'Help!'])\n"
     ]
    }
   ],
   "source": [
    "# We Create Table Statement and insert the data in the table\n",
    "try: \n",
    "    cur.execute(\"CREATE TABLE IF NOT EXISTS music_store (transaction_id int, \\\n",
    "                                                         customer_name varchar, cashier_name varchar, \\\n",
    "                                                         year int, albums_purchased text[]);\")\n",
    "except psycopg2.Error as e: \n",
    "    print(\"Error: Issue creating table\")\n",
    "    print (e)\n",
    "    \n",
    "try: \n",
    "    cur.execute(\"INSERT INTO music_store (transaction_id, customer_name, cashier_name, year, albums_purchased) \\\n",
    "                 VALUES (%s, %s, %s, %s, %s)\", \\\n",
    "                 (1, \"Amanda\", \"Sam\", 2000, [\"Rubber Soul\", \"Let it Be\"]))\n",
    "except psycopg2.Error as e: \n",
    "    print(\"Error: Inserting Rows\")\n",
    "    print (e)\n",
    "    \n",
    "try: \n",
    "    cur.execute(\"INSERT INTO music_store (transaction_id, customer_name, cashier_name, year, albums_purchased) \\\n",
    "                 VALUES (%s, %s, %s, %s, %s)\", \\\n",
    "                 (2, \"Toby\", \"Sam\", 2000, [\"My Generation\"]))\n",
    "except psycopg2.Error as e: \n",
    "    print(\"Error: Inserting Rows\")\n",
    "    print (e)\n",
    "    \n",
    "try: \n",
    "    cur.execute(\"INSERT INTO music_store (transaction_id, customer_name, cashier_name, year, albums_purchased) \\\n",
    "                 VALUES (%s, %s, %s, %s, %s)\", \\\n",
    "                 (3, \"Max\", \"Bob\", 2018, [\"Meet the Beatles\", \"Help!\"]))\n",
    "except psycopg2.Error as e: \n",
    "    print(\"Error: Inserting Rows\")\n",
    "    print (e)\n",
    "    \n",
    "    \n",
    "try: \n",
    "    cur.execute(\"SELECT * FROM music_store;\")\n",
    "except psycopg2.Error as e: \n",
    "    print(\"Error: select *\")\n",
    "    print (e)\n",
    "\n",
    "row = cur.fetchone()\n",
    "while row:\n",
    "   print(row)\n",
    "   row = cur.fetchone()"
   ]
  },
  {
   "cell_type": "markdown",
   "metadata": {},
   "source": [
    "#### Moving to 1st Normal Form (1NF)\n",
    "This data has not been normalized. To get this data into 1st normal form, we will need to remove any collections or list of data. We need to break up the list of songs into individual rows. \n",
    "\n",
    "`Table Name: music_store\n",
    "column 0: Transaction Id\n",
    "column 1: Customer Name\n",
    "column 2: Cashier Name\n",
    "column 3: Year \n",
    "column 4: Albums Purchased`\n",
    "\n",
    "<img src=\"images/table13.png\" width=\"650\" height=\"650\">"
   ]
  },
  {
   "cell_type": "code",
   "execution_count": 4,
   "metadata": {},
   "outputs": [
    {
     "name": "stdout",
     "output_type": "stream",
     "text": [
      "(1, 'Amanda', 'Sam', 2000, 'Rubber Soul')\n",
      "(1, 'Amanda', 'Sam', 2000, 'Let it Be')\n",
      "(2, 'Toby', 'Sam', 2000, 'My Generation')\n",
      "(3, 'Max', 'Bob', 2018, 'Help!')\n",
      "(3, 'Max', 'Bob', 2018, 'Meet the Beatles')\n"
     ]
    }
   ],
   "source": [
    "try: \n",
    "    cur.execute(\"CREATE TABLE IF NOT EXISTS music_store2 (transaction_id int, \\\n",
    "                                                         customer_name varchar, cashier_name varchar, \\\n",
    "                                                         year int, albums_purchased text);\")\n",
    "except psycopg2.Error as e: \n",
    "    print(\"Error: Issue creating table\")\n",
    "    print (e)\n",
    "    \n",
    "try: \n",
    "    cur.execute(\"INSERT INTO music_store2 (transaction_id, customer_name, cashier_name, year, albums_purchased) \\\n",
    "                 VALUES (%s, %s, %s, %s, %s)\", \\\n",
    "                 (1, \"Amanda\", \"Sam\", 2000, \"Rubber Soul\"))\n",
    "except psycopg2.Error as e: \n",
    "    print(\"Error: Inserting Rows\")\n",
    "    print (e)\n",
    "\n",
    "try: \n",
    "    cur.execute(\"INSERT INTO music_store2 (transaction_id, customer_name, cashier_name, year, albums_purchased) \\\n",
    "                 VALUES (%s, %s, %s, %s, %s)\", \\\n",
    "                 (1, \"Amanda\", \"Sam\", 2000, \"Let it Be\"))\n",
    "except psycopg2.Error as e: \n",
    "    print(\"Error: Inserting Rows\")\n",
    "    print (e)\n",
    "    \n",
    "try: \n",
    "    cur.execute(\"INSERT INTO music_store2 (transaction_id, customer_name, cashier_name, year, albums_purchased) \\\n",
    "                 VALUES (%s, %s, %s, %s, %s)\", \\\n",
    "                 (2, \"Toby\", \"Sam\", 2000, \"My Generation\"))\n",
    "except psycopg2.Error as e: \n",
    "    print(\"Error: Inserting Rows\")\n",
    "    print (e)\n",
    "    \n",
    "try: \n",
    "    cur.execute(\"INSERT INTO music_store2 (transaction_id, customer_name, cashier_name, year, albums_purchased) \\\n",
    "                 VALUES (%s, %s, %s, %s, %s)\", \\\n",
    "                 (3, \"Max\", \"Bob\", 2018, \"Help!\"))\n",
    "except psycopg2.Error as e: \n",
    "    print(\"Error: Inserting Rows\")\n",
    "    print (e)\n",
    "    \n",
    "try: \n",
    "    cur.execute(\"INSERT INTO music_store2 (transaction_id, customer_name, cashier_name, year, albums_purchased) \\\n",
    "                 VALUES (%s, %s, %s, %s, %s)\", \\\n",
    "                 (3, \"Max\", \"Bob\", 2018, \"Meet the Beatles\"))\n",
    "except psycopg2.Error as e: \n",
    "    print(\"Error: Inserting Rows\")\n",
    "    print (e)\n",
    "    \n",
    "try: \n",
    "    cur.execute(\"SELECT * FROM music_store2;\")\n",
    "except psycopg2.Error as e: \n",
    "    print(\"Error: select *\")\n",
    "    print (e)\n",
    "\n",
    "row = cur.fetchone()\n",
    "while row:\n",
    "   print(row)\n",
    "   row = cur.fetchone()"
   ]
  },
  {
   "cell_type": "markdown",
   "metadata": {},
   "source": [
    "#### Moving to 2nd Normal Form (2NF)\n",
    "We have moved our data to be in 1NF which is the first step in moving to 2nd Normal Form. Our table is not yet in 2nd Normal Form. While each of our records in our table is unique, our Primary key (transaction id) is not unique. We need to break this up into two tables, transactions and albums sold. \n",
    "\n",
    "`Table Name: transactions \n",
    "column 0: Transaction ID\n",
    "column 1: Customer Name\n",
    "column 2: Cashier Name\n",
    "column 3: Year `\n",
    "\n",
    "`Table Name: albums_sold\n",
    "column 0: Album Id\n",
    "column 1: Transaction Id\n",
    "column 3: Album Name` \n",
    "\n",
    "<img src=\"images/table14.png\" width=\"450\" height=\"450\"> <img src=\"images/table15.png\" width=\"450\" height=\"450\">"
   ]
  },
  {
   "cell_type": "code",
   "execution_count": 5,
   "metadata": {},
   "outputs": [
    {
     "name": "stdout",
     "output_type": "stream",
     "text": [
      "Table: transactions\n",
      "\n",
      "(1, 'Amanda', 'Sam', 2000)\n",
      "(2, 'Toby', 'Sam', 2000)\n",
      "(3, 'Max', 'Bob', 2018)\n",
      "\n",
      "Table: albums_sold\n",
      "\n",
      "(1, 1, 'Rubber Soul')\n",
      "(2, 1, 'Let it Be')\n",
      "(3, 2, 'My Generation')\n",
      "(4, 3, 'Meet the Beatles')\n",
      "(5, 3, 'Help!')\n"
     ]
    }
   ],
   "source": [
    "# We create two new tables transactions and albums sold and insert data into these tables\n",
    "\n",
    "try: \n",
    "    cur.execute(\"CREATE TABLE IF NOT EXISTS transactions (transaction_id int, \\\n",
    "                                                           customer_name varchar, cashier_name varchar, \\\n",
    "                                                           year int);\")\n",
    "except psycopg2.Error as e: \n",
    "    print(\"Error: Issue creating table\")\n",
    "    print (e)\n",
    "\n",
    "try: \n",
    "    cur.execute(\"CREATE TABLE IF NOT EXISTS albums_sold (album_id int, transaction_id int, \\\n",
    "                                                          album_name varchar);\")\n",
    "except psycopg2.Error as e: \n",
    "    print(\"Error: Issue creating table\")\n",
    "    print (e)\n",
    "    \n",
    "try: \n",
    "    cur.execute(\"INSERT INTO transactions (transaction_id, customer_name, cashier_name, year) \\\n",
    "                 VALUES (%s, %s, %s, %s)\", \\\n",
    "                 (1, \"Amanda\", \"Sam\", 2000))\n",
    "except psycopg2.Error as e: \n",
    "    print(\"Error: Inserting Rows\")\n",
    "    print (e)\n",
    "\n",
    "try: \n",
    "    cur.execute(\"INSERT INTO transactions (transaction_id, customer_name, cashier_name, year) \\\n",
    "                 VALUES (%s, %s, %s, %s)\", \\\n",
    "                 (2, \"Toby\", \"Sam\", 2000))\n",
    "except psycopg2.Error as e: \n",
    "    print(\"Error: Inserting Rows\")\n",
    "    print (e)\n",
    "    \n",
    "try: \n",
    "    cur.execute(\"INSERT INTO transactions (transaction_id, customer_name, cashier_name, year) \\\n",
    "                 VALUES (%s, %s, %s, %s)\", \\\n",
    "                 (3, \"Max\", \"Bob\", 2018))\n",
    "except psycopg2.Error as e: \n",
    "    print(\"Error: Inserting Rows\")\n",
    "    print (e)\n",
    "    \n",
    "try: \n",
    "    cur.execute(\"INSERT INTO albums_sold (album_id, transaction_id, album_name) \\\n",
    "                 VALUES (%s, %s, %s)\", \\\n",
    "                 (1, 1, \"Rubber Soul\"))\n",
    "except psycopg2.Error as e: \n",
    "    print(\"Error: Inserting Rows\")\n",
    "    print (e)\n",
    "\n",
    "try: \n",
    "    cur.execute(\"INSERT INTO albums_sold (album_id, transaction_id, album_name) \\\n",
    "                 VALUES (%s, %s, %s)\", \\\n",
    "                 (2, 1, \"Let it Be\"))\n",
    "except psycopg2.Error as e: \n",
    "    print(\"Error: Inserting Rows\")\n",
    "    print (e)\n",
    "    \n",
    "try: \n",
    "    cur.execute(\"INSERT INTO albums_sold (album_id, transaction_id, album_name) \\\n",
    "                 VALUES (%s, %s, %s)\", \\\n",
    "                 (3, 2, \"My Generation\"))\n",
    "except psycopg2.Error as e: \n",
    "    print(\"Error: Inserting Rows\")\n",
    "    print (e)\n",
    "    \n",
    "try: \n",
    "    cur.execute(\"INSERT INTO albums_sold (album_id, transaction_id, album_name) \\\n",
    "                 VALUES (%s, %s, %s)\", \\\n",
    "                 (4, 3, \"Meet the Beatles\"))\n",
    "except psycopg2.Error as e: \n",
    "    print(\"Error: Inserting Rows\")\n",
    "    print (e)\n",
    "\n",
    "try: \n",
    "    cur.execute(\"INSERT INTO albums_sold (album_id, transaction_id, album_name) \\\n",
    "                 VALUES (%s, %s, %s)\", \\\n",
    "                 (5, 3, \"Help!\"))\n",
    "except psycopg2.Error as e: \n",
    "    print(\"Error: Inserting Rows\")\n",
    "    print (e)\n",
    "\n",
    "print(\"Table: transactions\\n\")\n",
    "try: \n",
    "    cur.execute(\"SELECT * FROM transactions;\")\n",
    "except psycopg2.Error as e: \n",
    "    print(\"Error: select *\")\n",
    "    print (e)\n",
    "\n",
    "row = cur.fetchone()\n",
    "while row:\n",
    "   print(row)\n",
    "   row = cur.fetchone()\n",
    "\n",
    "print(\"\\nTable: albums_sold\\n\")\n",
    "try: \n",
    "    cur.execute(\"SELECT * FROM albums_sold;\")\n",
    "except psycopg2.Error as e: \n",
    "    print(\"Error: select *\")\n",
    "    print (e)\n",
    "row = cur.fetchone()\n",
    "while row:\n",
    "   print(row)\n",
    "   row = cur.fetchone()"
   ]
  },
  {
   "cell_type": "markdown",
   "metadata": {},
   "source": [
    "#### Let's do a `JOIN` on this table so we can get all the information we had in our first Table. "
   ]
  },
  {
   "cell_type": "code",
   "execution_count": 6,
   "metadata": {},
   "outputs": [
    {
     "name": "stdout",
     "output_type": "stream",
     "text": [
      "(1, 'Amanda', 'Sam', 2000, 1, 1, 'Rubber Soul')\n",
      "(1, 'Amanda', 'Sam', 2000, 2, 1, 'Let it Be')\n",
      "(2, 'Toby', 'Sam', 2000, 3, 2, 'My Generation')\n",
      "(3, 'Max', 'Bob', 2018, 4, 3, 'Meet the Beatles')\n",
      "(3, 'Max', 'Bob', 2018, 5, 3, 'Help!')\n"
     ]
    }
   ],
   "source": [
    "# We complete the join on the transactions and album_sold tables\n",
    "\n",
    "try: \n",
    "    cur.execute(\"SELECT * FROM transactions JOIN albums_sold ON transactions.transaction_id = albums_sold.transaction_id ;\")\n",
    "except psycopg2.Error as e: \n",
    "    print(\"Error: select *\")\n",
    "    print (e)\n",
    "\n",
    "row = cur.fetchone()\n",
    "while row:\n",
    "   print(row)\n",
    "   row = cur.fetchone()\n"
   ]
  },
  {
   "cell_type": "markdown",
   "metadata": {},
   "source": [
    "#### Moving to 3rd Normal Form (3NF)\n",
    "Let's check our table for any transitive dependencies. Transactions can remove Cashier Name to its own table, called Employees, which will leave us with 3 tables. \n",
    "`Table Name: transactions2 \n",
    "column 0: transaction Id\n",
    "column 1: Customer Name\n",
    "column 2: Cashier Id\n",
    "column 3: Year `\n",
    "\n",
    "`Table Name: albums_sold\n",
    "column 0: Album Id\n",
    "column 1: Transaction Id\n",
    "column 3: Album Name` \n",
    "\n",
    "`Table Name: employees\n",
    "column 0: Employee Id\n",
    "column 1: Employee Name `\n",
    "<img src=\"images/table16.png\" width=\"450\" height=\"450\"> <img src=\"images/table15.png\" width=\"450\" height=\"450\"> <img src=\"images/table17.png\" width=\"350\" height=\"350\">\n"
   ]
  },
  {
   "cell_type": "code",
   "execution_count": 7,
   "metadata": {},
   "outputs": [
    {
     "name": "stdout",
     "output_type": "stream",
     "text": [
      "Table: transactions2\n",
      "\n",
      "(1, 'Amanda', 1, 2000)\n",
      "(2, 'Toby', 1, 2000)\n",
      "(3, 'Max', 2, 2018)\n",
      "\n",
      "Table: albums_sold\n",
      "\n",
      "(1, 1, 'Rubber Soul')\n",
      "(2, 1, 'Let it Be')\n",
      "(3, 2, 'My Generation')\n",
      "(4, 3, 'Meet the Beatles')\n",
      "(5, 3, 'Help!')\n",
      "\n",
      "Table: employees\n",
      "\n",
      "(1, 'Sam')\n",
      "(2, 'Bob')\n"
     ]
    }
   ],
   "source": [
    "try: \n",
    "    cur.execute(\"CREATE TABLE IF NOT EXISTS transactions2 (transaction_id int, \\\n",
    "                                                           customer_name varchar, cashier_id int, \\\n",
    "                                                           year int);\")\n",
    "except psycopg2.Error as e: \n",
    "    print(\"Error: Issue creating table\")\n",
    "    print (e)\n",
    "\n",
    "try: \n",
    "    cur.execute(\"CREATE TABLE IF NOT EXISTS employees (employee_id int, \\\n",
    "                                                       employee_name varchar);\")\n",
    "except psycopg2.Error as e: \n",
    "    print(\"Error: Issue creating table\")\n",
    "    print (e)\n",
    "\n",
    "try: \n",
    "    cur.execute(\"INSERT INTO transactions2 (transaction_id, customer_name, cashier_id, year) \\\n",
    "                 VALUES (%s, %s, %s, %s)\", \\\n",
    "                 (1, \"Amanda\", 1, 2000))\n",
    "except psycopg2.Error as e: \n",
    "    print(\"Error: Inserting Rows\")\n",
    "    print (e)\n",
    "\n",
    "try: \n",
    "    cur.execute(\"INSERT INTO transactions2 (transaction_id, customer_name, cashier_id, year) \\\n",
    "                 VALUES (%s, %s, %s, %s)\", \\\n",
    "                 (2, \"Toby\", 1, 2000))\n",
    "except psycopg2.Error as e: \n",
    "    print(\"Error: Inserting Rows\")\n",
    "    print (e)\n",
    "    \n",
    "try: \n",
    "    cur.execute(\"INSERT INTO transactions2 (transaction_id, customer_name, cashier_id, year) \\\n",
    "                 VALUES (%s, %s, %s, %s)\", \\\n",
    "                 (3, \"Max\", 2, 2018))\n",
    "except psycopg2.Error as e: \n",
    "    print(\"Error: Inserting Rows\")\n",
    "    print (e)\n",
    "\n",
    "try: \n",
    "    cur.execute(\"INSERT INTO employees (employee_id, employee_name) \\\n",
    "                 VALUES (%s, %s)\", \\\n",
    "                 (1, \"Sam\"))\n",
    "except psycopg2.Error as e: \n",
    "    print(\"Error: Inserting Rows\")\n",
    "    print (e)\n",
    "\n",
    "try: \n",
    "    cur.execute(\"INSERT INTO employees (employee_id, employee_name) \\\n",
    "                 VALUES (%s, %s)\", \\\n",
    "                 (2, \"Bob\"))\n",
    "except psycopg2.Error as e: \n",
    "    print(\"Error: Inserting Rows\")\n",
    "    print (e)    \n",
    "\n",
    "print(\"Table: transactions2\\n\")\n",
    "try: \n",
    "    cur.execute(\"SELECT * FROM transactions2;\")\n",
    "except psycopg2.Error as e: \n",
    "    print(\"Error: select *\")\n",
    "    print (e)\n",
    "\n",
    "row = cur.fetchone()\n",
    "while row:\n",
    "   print(row)\n",
    "   row = cur.fetchone()\n",
    "\n",
    "print(\"\\nTable: albums_sold\\n\")\n",
    "try: \n",
    "    cur.execute(\"SELECT * FROM albums_sold;\")\n",
    "except psycopg2.Error as e: \n",
    "    print(\"Error: select *\")\n",
    "    print (e)\n",
    "\n",
    "row = cur.fetchone()\n",
    "while row:\n",
    "   print(row)\n",
    "   row = cur.fetchone()\n",
    "\n",
    "print(\"\\nTable: employees\\n\")\n",
    "try: \n",
    "    cur.execute(\"SELECT * FROM employees;\")\n",
    "except psycopg2.Error as e: \n",
    "    print(\"Error: select *\")\n",
    "    print (e)\n",
    "\n",
    "row = cur.fetchone()\n",
    "while row:\n",
    "   print(row)\n",
    "   row = cur.fetchone()"
   ]
  },
  {
   "cell_type": "markdown",
   "metadata": {},
   "source": [
    "#### Let's do two `JOIN` on these 3 tables so we can get all the information we had in our first Table. "
   ]
  },
  {
   "cell_type": "code",
   "execution_count": 8,
   "metadata": {},
   "outputs": [
    {
     "name": "stdout",
     "output_type": "stream",
     "text": [
      "(1, 'Amanda', 1, 2000, 1, 1, 'Rubber Soul', 1, 'Sam')\n",
      "(1, 'Amanda', 1, 2000, 2, 1, 'Let it Be', 1, 'Sam')\n",
      "(2, 'Toby', 1, 2000, 3, 2, 'My Generation', 1, 'Sam')\n",
      "(3, 'Max', 2, 2018, 4, 3, 'Meet the Beatles', 2, 'Bob')\n",
      "(3, 'Max', 2, 2018, 5, 3, 'Help!', 2, 'Bob')\n"
     ]
    }
   ],
   "source": [
    "try: \n",
    "    cur.execute(\"SELECT * FROM (transactions2 JOIN albums_sold ON \\\n",
    "                               transactions2.transaction_id = albums_sold.transaction_id) JOIN \\\n",
    "                               employees ON transactions2.cashier_id=employees.employee_id;\")\n",
    "except psycopg2.Error as e: \n",
    "    print(\"Error: select *\")\n",
    "    print (e)\n",
    "\n",
    "row = cur.fetchone()\n",
    "while row:\n",
    "   print(row)\n",
    "   row = cur.fetchone()"
   ]
  },
  {
   "cell_type": "markdown",
   "metadata": {},
   "source": [
    "### DONE! We have Normalized our dataset! "
   ]
  },
  {
   "cell_type": "markdown",
   "metadata": {},
   "source": [
    "### For the sake of the demo, Iet's drop the tables. "
   ]
  },
  {
   "cell_type": "code",
   "execution_count": 9,
   "metadata": {},
   "outputs": [],
   "source": [
    "try: \n",
    "    cur.execute(\"DROP table music_store\")\n",
    "except psycopg2.Error as e: \n",
    "    print(\"Error: Dropping table\")\n",
    "    print (e)\n",
    "try: \n",
    "    cur.execute(\"DROP table music_store2\")\n",
    "except psycopg2.Error as e: \n",
    "    print(\"Error: Dropping table\")\n",
    "    print (e)\n",
    "try: \n",
    "    cur.execute(\"DROP table albums_sold\")\n",
    "except psycopg2.Error as e: \n",
    "    print(\"Error: Dropping table\")\n",
    "    print (e)\n",
    "try: \n",
    "    cur.execute(\"DROP table employees\")\n",
    "except psycopg2.Error as e: \n",
    "    print(\"Error: Dropping table\")\n",
    "    print (e)\n",
    "try: \n",
    "    cur.execute(\"DROP table transactions\")\n",
    "except psycopg2.Error as e: \n",
    "    print(\"Error: Dropping table\")\n",
    "    print (e)\n",
    "try: \n",
    "    cur.execute(\"DROP table transactions2\")\n",
    "except psycopg2.Error as e: \n",
    "    print(\"Error: Dropping table\")\n",
    "    print (e)"
   ]
  },
  {
   "cell_type": "markdown",
   "metadata": {},
   "source": [
    "### And finally close the cursor and connection. "
   ]
  },
  {
   "cell_type": "code",
   "execution_count": 10,
   "metadata": {},
   "outputs": [],
   "source": [
    "cur.close()\n",
    "conn.close()"
   ]
  },
  {
   "cell_type": "code",
   "execution_count": null,
   "metadata": {},
   "outputs": [],
   "source": []
  }
 ],
 "metadata": {
  "kernelspec": {
   "display_name": "Python 3",
   "language": "python",
   "name": "python3"
  },
  "language_info": {
   "codemirror_mode": {
    "name": "ipython",
    "version": 3
   },
   "file_extension": ".py",
   "mimetype": "text/x-python",
   "name": "python",
   "nbconvert_exporter": "python",
   "pygments_lexer": "ipython3",
   "version": "3.6.3"
  }
 },
 "nbformat": 4,
 "nbformat_minor": 2
}
